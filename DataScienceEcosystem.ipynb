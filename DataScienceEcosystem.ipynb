{
 "cells": [
  {
   "cell_type": "markdown",
   "id": "6cc873b0-bcfc-49cb-a078-9aa77d2143fd",
   "metadata": {},
   "source": [
    "# Data Science Tools and Ecosystem"
   ]
  },
  {
   "cell_type": "markdown",
   "id": "502119ab-088c-4340-b532-eff2c5b1e822",
   "metadata": {},
   "source": [
    "In this notebook, Data Science Tools and Ecosystem are summarized."
   ]
  },
  {
   "cell_type": "markdown",
   "id": "2c465de9-5eeb-4896-a5d0-fbde9b3cf62f",
   "metadata": {
    "tags": []
   },
   "source": [
    "## OBJECTIVES"
   ]
  },
  {
   "cell_type": "markdown",
   "id": "49fbd6b9-749d-4cec-a836-5f03849f6823",
   "metadata": {
    "jp-MarkdownHeadingCollapsed": true,
    "tags": []
   },
   "source": [
    "- POPULAR LANGUAGES FOR DATA SCIENCE\n",
    "- POPULAR LIBRARIES FOR DATA SCIENCE\n",
    "- ARITHMETIC SAMPLES"
   ]
  },
  {
   "cell_type": "markdown",
   "id": "0af77876-f321-481f-b473-a43ea581df6f",
   "metadata": {
    "tags": []
   },
   "source": [
    "## AUTHOR"
   ]
  },
  {
   "cell_type": "markdown",
   "id": "f57ddd91-0027-4577-8170-165fd6120ffc",
   "metadata": {
    "tags": []
   },
   "source": [
    "SCOTT"
   ]
  },
  {
   "cell_type": "markdown",
   "id": "a23cdc1d-4dbb-4f22-b271-e7f666a7a0aa",
   "metadata": {},
   "source": [
    "Some of the popular languages that Data Scientists use are:"
   ]
  },
  {
   "cell_type": "markdown",
   "id": "64bf56ee-05c9-4f13-be66-e9ff76983eb5",
   "metadata": {},
   "source": [
    "- SQL\n",
    "- R\n",
    "- PYTHON"
   ]
  },
  {
   "cell_type": "markdown",
   "id": "85bdb9e0-ecd0-4ca1-8256-6ba31b2bfd56",
   "metadata": {},
   "source": [
    "|Popular Data Science Libraries|\n",
    "|------------------------------|\n",
    "|NumPY|\n",
    "|Matplotlib|\n",
    "|SciPY|"
   ]
  },
  {
   "cell_type": "markdown",
   "id": "4f207510-ab22-4a6d-82ad-07aab3b62fff",
   "metadata": {},
   "source": [
    "|Popular Data Science Open Source Tools|\n",
    "|--------------------------------------|\n",
    "|Apache Hadoop|\n",
    "|TensorFlow|\n",
    "|RStudio|\n"
   ]
  },
  {
   "cell_type": "markdown",
   "id": "917e6bbc-fa61-4813-98bb-25260ce35651",
   "metadata": {},
   "source": [
    "### Below are a few examples of evaluating arithmetic expressions in Python"
   ]
  },
  {
   "cell_type": "markdown",
   "id": "f71fcee5-0726-481b-a0bf-845b695ed7e8",
   "metadata": {},
   "source": [
    "This is a simple arithmetic expression to multiply then add integers"
   ]
  },
  {
   "cell_type": "code",
   "execution_count": 3,
   "id": "9da2383b-f87e-4aa6-acfb-a74b5056e924",
   "metadata": {
    "tags": []
   },
   "outputs": [
    {
     "data": {
      "text/plain": [
       "17"
      ]
     },
     "execution_count": 3,
     "metadata": {},
     "output_type": "execute_result"
    }
   ],
   "source": [
    "(3*4)+5"
   ]
  },
  {
   "cell_type": "markdown",
   "id": "f41a4f4c-8dea-4557-9223-9ca5374807c3",
   "metadata": {},
   "source": [
    "### This will convert 200 minutes to hours by dividing by 60"
   ]
  },
  {
   "cell_type": "code",
   "execution_count": 4,
   "id": "cd9178c0-b834-4f0a-8f92-871a0e284eca",
   "metadata": {
    "tags": []
   },
   "outputs": [
    {
     "data": {
      "text/plain": [
       "3.3333333333333335"
      ]
     },
     "execution_count": 4,
     "metadata": {},
     "output_type": "execute_result"
    }
   ],
   "source": [
    "200/60"
   ]
  },
  {
   "cell_type": "code",
   "execution_count": null,
   "id": "f972cce2-b32f-445d-be45-a4240009e111",
   "metadata": {},
   "outputs": [],
   "source": []
  }
 ],
 "metadata": {
  "kernelspec": {
   "display_name": "Python",
   "language": "python",
   "name": "conda-env-python-py"
  },
  "language_info": {
   "codemirror_mode": {
    "name": "ipython",
    "version": 3
   },
   "file_extension": ".py",
   "mimetype": "text/x-python",
   "name": "python",
   "nbconvert_exporter": "python",
   "pygments_lexer": "ipython3",
   "version": "3.7.12"
  }
 },
 "nbformat": 4,
 "nbformat_minor": 5
}
